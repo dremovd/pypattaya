{
 "cells": [
  {
   "cell_type": "markdown",
   "metadata": {},
   "source": [
    "# Постановка задачи\n",
    "* Есть набор из хостов 125т\n",
    "* По ним заскрейплено содержимое (HTML)\n",
    "* Есть медленный парсер similarweb, он обошел всего 10т\n",
    "* Нужно приоритизировать сбор урлов так, чтобы достать самые интересные урлы - первыми"
   ]
  },
  {
   "cell_type": "code",
   "execution_count": 1,
   "metadata": {},
   "outputs": [],
   "source": [
    "column = 'title'"
   ]
  },
  {
   "cell_type": "code",
   "execution_count": 2,
   "metadata": {},
   "outputs": [
    {
     "name": "stdout",
     "output_type": "stream",
     "text": [
      "total 18M\r\n",
      "drwxrwxr-x 4 morph morph 4.0K Mar  4 08:39 catboost_info\r\n",
      "-rw-rw-r-- 1 morph morph  15M Mar  4 08:23 parsed3.parquet\r\n",
      "-rw-rw-r-- 1 morph morph 2.0M Mar  4 12:18 prioritized.parquet\r\n",
      "-rw-rw-r-- 1 morph morph  34K Mar  4 12:20 PyPattaya meetup - ML.ipynb\r\n",
      "-rw-rw-r-- 1 morph morph 253K Mar  4 08:22 similar_web_data_10k.parquet.gzip\r\n"
     ]
    }
   ],
   "source": [
    "!ls -lh"
   ]
  },
  {
   "cell_type": "code",
   "execution_count": 3,
   "metadata": {},
   "outputs": [
    {
     "data": {
      "text/html": [
       "<div>\n",
       "<style scoped>\n",
       "    .dataframe tbody tr th:only-of-type {\n",
       "        vertical-align: middle;\n",
       "    }\n",
       "\n",
       "    .dataframe tbody tr th {\n",
       "        vertical-align: top;\n",
       "    }\n",
       "\n",
       "    .dataframe thead th {\n",
       "        text-align: right;\n",
       "    }\n",
       "</style>\n",
       "<table border=\"1\" class=\"dataframe\">\n",
       "  <thead>\n",
       "    <tr style=\"text-align: right;\">\n",
       "      <th></th>\n",
       "      <th>url_extended</th>\n",
       "      <th>description</th>\n",
       "      <th>title</th>\n",
       "    </tr>\n",
       "    <tr>\n",
       "      <th>index</th>\n",
       "      <th></th>\n",
       "      <th></th>\n",
       "      <th></th>\n",
       "    </tr>\n",
       "  </thead>\n",
       "  <tbody>\n",
       "    <tr>\n",
       "      <th>50039</th>\n",
       "      <td>leninmemorial.ru</td>\n",
       "      <td>Ленинский мемориал. Ульяновск</td>\n",
       "      <td>Ленинский мемориал - официальный сайт</td>\n",
       "    </tr>\n",
       "    <tr>\n",
       "      <th>57712</th>\n",
       "      <td>splits.o-stuff.net</td>\n",
       "      <td>Добро пожаловать в Библиотеку Сплитов соревнов...</td>\n",
       "      <td>Библиотека спортивных достижений</td>\n",
       "    </tr>\n",
       "    <tr>\n",
       "      <th>11788</th>\n",
       "      <td>saratovturizm.ru</td>\n",
       "      <td>None</td>\n",
       "      <td>None</td>\n",
       "    </tr>\n",
       "  </tbody>\n",
       "</table>\n",
       "</div>"
      ],
      "text/plain": [
       "             url_extended                                        description  \\\n",
       "index                                                                          \n",
       "50039    leninmemorial.ru                      Ленинский мемориал. Ульяновск   \n",
       "57712  splits.o-stuff.net  Добро пожаловать в Библиотеку Сплитов соревнов...   \n",
       "11788    saratovturizm.ru                                               None   \n",
       "\n",
       "                                       title  \n",
       "index                                         \n",
       "50039  Ленинский мемориал - официальный сайт  \n",
       "57712       Библиотека спортивных достижений  \n",
       "11788                                   None  "
      ]
     },
     "execution_count": 3,
     "metadata": {},
     "output_type": "execute_result"
    }
   ],
   "source": [
    "import pandas as pd\n",
    "\n",
    "parsed_hosts = pd.read_parquet('parsed3.parquet')\n",
    "parsed_hosts = parsed_hosts.drop_duplicates('url_extended')\n",
    "parsed_hosts.sample(3)"
   ]
  },
  {
   "cell_type": "code",
   "execution_count": 4,
   "metadata": {},
   "outputs": [
    {
     "data": {
      "text/plain": [
       "(125130, 3)"
      ]
     },
     "execution_count": 4,
     "metadata": {},
     "output_type": "execute_result"
    }
   ],
   "source": [
    "parsed_hosts.shape"
   ]
  },
  {
   "cell_type": "code",
   "execution_count": 5,
   "metadata": {},
   "outputs": [
    {
     "data": {
      "text/html": [
       "<div>\n",
       "<style scoped>\n",
       "    .dataframe tbody tr th:only-of-type {\n",
       "        vertical-align: middle;\n",
       "    }\n",
       "\n",
       "    .dataframe tbody tr th {\n",
       "        vertical-align: top;\n",
       "    }\n",
       "\n",
       "    .dataframe thead th {\n",
       "        text-align: right;\n",
       "    }\n",
       "</style>\n",
       "<table border=\"1\" class=\"dataframe\">\n",
       "  <thead>\n",
       "    <tr style=\"text-align: right;\">\n",
       "      <th></th>\n",
       "      <th>url_host</th>\n",
       "      <th>female</th>\n",
       "      <th>male</th>\n",
       "      <th>top_1_interest</th>\n",
       "      <th>top_2_interest</th>\n",
       "      <th>top_3_interest</th>\n",
       "      <th>top_4_interest</th>\n",
       "      <th>top_5_interest</th>\n",
       "      <th>18-24</th>\n",
       "      <th>25-34</th>\n",
       "      <th>35-44</th>\n",
       "      <th>45-54</th>\n",
       "      <th>55-64</th>\n",
       "      <th>65+</th>\n",
       "    </tr>\n",
       "  </thead>\n",
       "  <tbody>\n",
       "    <tr>\n",
       "      <th>987</th>\n",
       "      <td>kostroma.sadsad.su</td>\n",
       "      <td>NaN</td>\n",
       "      <td>NaN</td>\n",
       "      <td>None</td>\n",
       "      <td>None</td>\n",
       "      <td>None</td>\n",
       "      <td>None</td>\n",
       "      <td>None</td>\n",
       "      <td>NaN</td>\n",
       "      <td>NaN</td>\n",
       "      <td>NaN</td>\n",
       "      <td>NaN</td>\n",
       "      <td>NaN</td>\n",
       "      <td>NaN</td>\n",
       "    </tr>\n",
       "    <tr>\n",
       "      <th>4511</th>\n",
       "      <td>icqinfo.ru</td>\n",
       "      <td>NaN</td>\n",
       "      <td>NaN</td>\n",
       "      <td>None</td>\n",
       "      <td>None</td>\n",
       "      <td>None</td>\n",
       "      <td>None</td>\n",
       "      <td>None</td>\n",
       "      <td>NaN</td>\n",
       "      <td>NaN</td>\n",
       "      <td>NaN</td>\n",
       "      <td>NaN</td>\n",
       "      <td>NaN</td>\n",
       "      <td>NaN</td>\n",
       "    </tr>\n",
       "    <tr>\n",
       "      <th>4533</th>\n",
       "      <td>fssp.gov.ru</td>\n",
       "      <td>52.26</td>\n",
       "      <td>47.74</td>\n",
       "      <td>News &amp; Media Publishers</td>\n",
       "      <td>Legal</td>\n",
       "      <td>Computers Electronics and Technology - Other</td>\n",
       "      <td>Government</td>\n",
       "      <td>Financial Planning and Management</td>\n",
       "      <td>10.16</td>\n",
       "      <td>35.76</td>\n",
       "      <td>24.46</td>\n",
       "      <td>16.93</td>\n",
       "      <td>9.38</td>\n",
       "      <td>3.3</td>\n",
       "    </tr>\n",
       "  </tbody>\n",
       "</table>\n",
       "</div>"
      ],
      "text/plain": [
       "                url_host  female   male           top_1_interest  \\\n",
       "987   kostroma.sadsad.su     NaN    NaN                     None   \n",
       "4511          icqinfo.ru     NaN    NaN                     None   \n",
       "4533         fssp.gov.ru   52.26  47.74  News & Media Publishers   \n",
       "\n",
       "     top_2_interest                                top_3_interest  \\\n",
       "987            None                                          None   \n",
       "4511           None                                          None   \n",
       "4533          Legal  Computers Electronics and Technology - Other   \n",
       "\n",
       "     top_4_interest                     top_5_interest  18-24  25-34  35-44  \\\n",
       "987            None                               None    NaN    NaN    NaN   \n",
       "4511           None                               None    NaN    NaN    NaN   \n",
       "4533     Government  Financial Planning and Management  10.16  35.76  24.46   \n",
       "\n",
       "      45-54  55-64  65+  \n",
       "987     NaN    NaN  NaN  \n",
       "4511    NaN    NaN  NaN  \n",
       "4533  16.93   9.38  3.3  "
      ]
     },
     "execution_count": 5,
     "metadata": {},
     "output_type": "execute_result"
    }
   ],
   "source": [
    "similar_web = pd.read_parquet('similar_web_data_10k.parquet.gzip')\n",
    "similar_web.sample(3)"
   ]
  },
  {
   "cell_type": "code",
   "execution_count": 6,
   "metadata": {},
   "outputs": [
    {
     "data": {
      "text/plain": [
       "(10240, 14)"
      ]
     },
     "execution_count": 6,
     "metadata": {},
     "output_type": "execute_result"
    }
   ],
   "source": [
    "similar_web.shape"
   ]
  },
  {
   "cell_type": "markdown",
   "metadata": {},
   "source": [
    "## Выделим интересные хосты\n",
    "* Те, по которым есть информация\n",
    "* Те, где распределение пользователей по категориям отклоняются от среднего"
   ]
  },
  {
   "cell_type": "code",
   "execution_count": 7,
   "metadata": {},
   "outputs": [
    {
     "data": {
      "text/plain": [
       "female    47.423213\n",
       "male      52.576787\n",
       "18-24     16.627423\n",
       "25-34     34.052680\n",
       "35-44     19.518149\n",
       "45-54     14.669178\n",
       "55-64     10.357063\n",
       "65+        4.775590\n",
       "dtype: float64"
      ]
     },
     "execution_count": 7,
     "metadata": {},
     "output_type": "execute_result"
    }
   ],
   "source": [
    "columns = ['female', 'male', '18-24', '25-34', '35-44', '45-54', '55-64', '65+']\n",
    "mean_values = similar_web[columns].mean(axis=0)\n",
    "mean_values"
   ]
  },
  {
   "cell_type": "code",
   "execution_count": 8,
   "metadata": {},
   "outputs": [],
   "source": [
    "interest = (\n",
    "    similar_web['male'].fillna(52.576787) \n",
    "    + similar_web['45-54'].fillna(14.669178)\n",
    ")"
   ]
  },
  {
   "cell_type": "code",
   "execution_count": 9,
   "metadata": {},
   "outputs": [
    {
     "data": {
      "text/plain": [
       "6977    67.245965\n",
       "6683    67.245965\n",
       "2497    67.245965\n",
       "1681    68.430000\n",
       "2233    66.300000\n",
       "3060    53.390000\n",
       "1178    69.470000\n",
       "2294    67.245965\n",
       "2427    84.170000\n",
       "5286    67.245965\n",
       "dtype: float64"
      ]
     },
     "execution_count": 9,
     "metadata": {},
     "output_type": "execute_result"
    }
   ],
   "source": [
    "# interest = (similar_web[columns] - mean_values).abs().fillna(0).sum(axis=1)\n",
    "interest.sample(10)"
   ]
  },
  {
   "cell_type": "code",
   "execution_count": 10,
   "metadata": {},
   "outputs": [],
   "source": [
    "interest = pd.DataFrame(interest, columns=['interest'])"
   ]
  },
  {
   "cell_type": "code",
   "execution_count": 11,
   "metadata": {},
   "outputs": [
    {
     "data": {
      "image/png": "[encoded data removed]",
      "text/plain": [
       "<Figure size 1080x432 with 1 Axes>"
      ]
     },
     "metadata": {
      "needs_background": "light"
     },
     "output_type": "display_data"
    }
   ],
   "source": [
    "_ = interest.hist(bins=100, figsize=(15, 6), log=True)"
   ]
  },
  {
   "cell_type": "code",
   "execution_count": 12,
   "metadata": {},
   "outputs": [
    {
     "data": {
      "text/html": [
       "<div>\n",
       "<style scoped>\n",
       "    .dataframe tbody tr th:only-of-type {\n",
       "        vertical-align: middle;\n",
       "    }\n",
       "\n",
       "    .dataframe tbody tr th {\n",
       "        vertical-align: top;\n",
       "    }\n",
       "\n",
       "    .dataframe thead th {\n",
       "        text-align: right;\n",
       "    }\n",
       "</style>\n",
       "<table border=\"1\" class=\"dataframe\">\n",
       "  <thead>\n",
       "    <tr style=\"text-align: right;\">\n",
       "      <th></th>\n",
       "      <th>url_host</th>\n",
       "      <th>interest</th>\n",
       "    </tr>\n",
       "  </thead>\n",
       "  <tbody>\n",
       "    <tr>\n",
       "      <th>0</th>\n",
       "      <td>pogoda.tourister.ru</td>\n",
       "      <td>67.245965</td>\n",
       "    </tr>\n",
       "    <tr>\n",
       "      <th>1</th>\n",
       "      <td>av.by</td>\n",
       "      <td>76.740000</td>\n",
       "    </tr>\n",
       "    <tr>\n",
       "      <th>2</th>\n",
       "      <td>onlinemultfilmy.ru</td>\n",
       "      <td>62.040000</td>\n",
       "    </tr>\n",
       "    <tr>\n",
       "      <th>3</th>\n",
       "      <td>moe.kursk.ru</td>\n",
       "      <td>67.245965</td>\n",
       "    </tr>\n",
       "    <tr>\n",
       "      <th>4</th>\n",
       "      <td>my.gkh.ru</td>\n",
       "      <td>67.245965</td>\n",
       "    </tr>\n",
       "    <tr>\n",
       "      <th>...</th>\n",
       "      <td>...</td>\n",
       "      <td>...</td>\n",
       "    </tr>\n",
       "    <tr>\n",
       "      <th>7734</th>\n",
       "      <td>prodoctorov.ru</td>\n",
       "      <td>54.700000</td>\n",
       "    </tr>\n",
       "    <tr>\n",
       "      <th>7735</th>\n",
       "      <td>lkfl2.nalog.ru</td>\n",
       "      <td>67.245965</td>\n",
       "    </tr>\n",
       "    <tr>\n",
       "      <th>7736</th>\n",
       "      <td>voyagespb.ru</td>\n",
       "      <td>67.245965</td>\n",
       "    </tr>\n",
       "    <tr>\n",
       "      <th>7737</th>\n",
       "      <td>pushkinskijdom.ru</td>\n",
       "      <td>59.840000</td>\n",
       "    </tr>\n",
       "    <tr>\n",
       "      <th>7738</th>\n",
       "      <td>ural.academic.ru</td>\n",
       "      <td>67.245965</td>\n",
       "    </tr>\n",
       "  </tbody>\n",
       "</table>\n",
       "<p>10240 rows × 2 columns</p>\n",
       "</div>"
      ],
      "text/plain": [
       "                 url_host   interest\n",
       "0     pogoda.tourister.ru  67.245965\n",
       "1                   av.by  76.740000\n",
       "2      onlinemultfilmy.ru  62.040000\n",
       "3            moe.kursk.ru  67.245965\n",
       "4               my.gkh.ru  67.245965\n",
       "...                   ...        ...\n",
       "7734       prodoctorov.ru  54.700000\n",
       "7735       lkfl2.nalog.ru  67.245965\n",
       "7736         voyagespb.ru  67.245965\n",
       "7737    pushkinskijdom.ru  59.840000\n",
       "7738     ural.academic.ru  67.245965\n",
       "\n",
       "[10240 rows x 2 columns]"
      ]
     },
     "execution_count": 12,
     "metadata": {},
     "output_type": "execute_result"
    }
   ],
   "source": [
    "interest = pd.concat([\n",
    "    similar_web['url_host'],\n",
    "    interest\n",
    "], axis=1)\n",
    "interest"
   ]
  },
  {
   "cell_type": "code",
   "execution_count": 13,
   "metadata": {},
   "outputs": [],
   "source": [
    "parsed_hosts[column] = parsed_hosts[column].fillna('')"
   ]
  },
  {
   "cell_type": "code",
   "execution_count": 14,
   "metadata": {},
   "outputs": [],
   "source": [
    "interest = interest.merge(parsed_hosts, left_on='url_host', right_on='url_extended')[['url_host', column, 'interest']]"
   ]
  },
  {
   "cell_type": "markdown",
   "metadata": {},
   "source": [
    "## ML магия )"
   ]
  },
  {
   "cell_type": "markdown",
   "metadata": {},
   "source": [
    "### Признаки - слова в заголовке сайта"
   ]
  },
  {
   "cell_type": "code",
   "execution_count": 15,
   "metadata": {},
   "outputs": [
    {
     "data": {
      "text/plain": [
       "<8302x2814 sparse matrix of type '<class 'numpy.int64'>'\n",
       "\twith 35505 stored elements in Compressed Sparse Row format>"
      ]
     },
     "execution_count": 15,
     "metadata": {},
     "output_type": "execute_result"
    }
   ],
   "source": [
    "from sklearn.feature_extraction.text import CountVectorizer\n",
    "\n",
    "vectorizer = CountVectorizer(min_df=3)\n",
    "features = vectorizer.fit_transform(interest[column].fillna(''))\n",
    "features"
   ]
  },
  {
   "cell_type": "markdown",
   "metadata": {},
   "source": [
    "### catboost - надежная и неприхотливая модель для ML"
   ]
  },
  {
   "cell_type": "code",
   "execution_count": 16,
   "metadata": {},
   "outputs": [],
   "source": [
    "from catboost import CatBoostRegressor, Pool"
   ]
  },
  {
   "cell_type": "code",
   "execution_count": 17,
   "metadata": {},
   "outputs": [],
   "source": [
    "train = Pool(features, interest['interest'])"
   ]
  },
  {
   "cell_type": "code",
   "execution_count": 18,
   "metadata": {},
   "outputs": [
    {
     "name": "stdout",
     "output_type": "stream",
     "text": [
      "Learning rate set to 0.057202\n",
      "0:\tlearn: 6.8997030\ttotal: 51.1ms\tremaining: 51s\n",
      "50:\tlearn: 6.6224596\ttotal: 264ms\tremaining: 4.91s\n",
      "100:\tlearn: 6.4905047\ttotal: 475ms\tremaining: 4.23s\n",
      "150:\tlearn: 6.3829566\ttotal: 681ms\tremaining: 3.83s\n",
      "200:\tlearn: 6.2781339\ttotal: 873ms\tremaining: 3.47s\n",
      "250:\tlearn: 6.1858843\ttotal: 1.08s\tremaining: 3.21s\n",
      "300:\tlearn: 6.1090101\ttotal: 1.29s\tremaining: 2.99s\n",
      "350:\tlearn: 6.0443777\ttotal: 1.49s\tremaining: 2.75s\n",
      "400:\tlearn: 5.9857603\ttotal: 1.68s\tremaining: 2.51s\n",
      "450:\tlearn: 5.9288812\ttotal: 1.87s\tremaining: 2.27s\n",
      "500:\tlearn: 5.8814058\ttotal: 2.08s\tremaining: 2.07s\n",
      "550:\tlearn: 5.8334663\ttotal: 2.27s\tremaining: 1.85s\n",
      "600:\tlearn: 5.7890037\ttotal: 2.48s\tremaining: 1.65s\n",
      "650:\tlearn: 5.7495849\ttotal: 2.67s\tremaining: 1.43s\n",
      "700:\tlearn: 5.7088494\ttotal: 2.86s\tremaining: 1.22s\n",
      "750:\tlearn: 5.6722412\ttotal: 3.05s\tremaining: 1.01s\n",
      "800:\tlearn: 5.6400057\ttotal: 3.25s\tremaining: 809ms\n",
      "850:\tlearn: 5.6117135\ttotal: 3.46s\tremaining: 607ms\n",
      "900:\tlearn: 5.5816627\ttotal: 3.68s\tremaining: 404ms\n",
      "950:\tlearn: 5.5521246\ttotal: 3.89s\tremaining: 200ms\n",
      "999:\tlearn: 5.5266510\ttotal: 4.09s\tremaining: 0us\n"
     ]
    },
    {
     "data": {
      "text/plain": [
       "<catboost.core.CatBoostRegressor at 0x7fba95176c40>"
      ]
     },
     "execution_count": 18,
     "metadata": {},
     "output_type": "execute_result"
    }
   ],
   "source": [
    "model = CatBoostRegressor(metric_period=50)\n",
    "model.fit(train)"
   ]
  },
  {
   "cell_type": "markdown",
   "metadata": {},
   "source": [
    "## Применим модель на остальные сайты"
   ]
  },
  {
   "cell_type": "code",
   "execution_count": 19,
   "metadata": {},
   "outputs": [],
   "source": [
    "features_test = vectorizer.transform(parsed_hosts[column])"
   ]
  },
  {
   "cell_type": "code",
   "execution_count": 20,
   "metadata": {},
   "outputs": [
    {
     "data": {
      "text/plain": [
       "<125130x2814 sparse matrix of type '<class 'numpy.int64'>'\n",
       "\twith 363319 stored elements in Compressed Sparse Row format>"
      ]
     },
     "execution_count": 20,
     "metadata": {},
     "output_type": "execute_result"
    }
   ],
   "source": [
    "features_test"
   ]
  },
  {
   "cell_type": "code",
   "execution_count": 21,
   "metadata": {},
   "outputs": [],
   "source": [
    "test = Pool(features_test)"
   ]
  },
  {
   "cell_type": "code",
   "execution_count": 22,
   "metadata": {},
   "outputs": [],
   "source": [
    "parsed_hosts['interest'] = model.predict(test)"
   ]
  },
  {
   "cell_type": "code",
   "execution_count": 23,
   "metadata": {},
   "outputs": [],
   "source": [
    "mask_scraped_similar_web = parsed_hosts['url_extended'].isin(interest['url_host'])\n",
    "prioritized_hosts = parsed_hosts[~mask_scraped_similar_web].sort_values('interest', ascending=False)"
   ]
  },
  {
   "cell_type": "code",
   "execution_count": 24,
   "metadata": {},
   "outputs": [],
   "source": [
    "prioritized_hosts[['url_extended']].to_parquet('prioritized.parquet')"
   ]
  },
  {
   "cell_type": "code",
   "execution_count": 25,
   "metadata": {},
   "outputs": [
    {
     "data": {
      "text/plain": [
       "index\n",
       "113121              full-game.ru\n",
       "96670            avto-pitstop.ru\n",
       "98020           fanatgta.ucoz.ru\n",
       "61725              audi-forum.ru\n",
       "120204                  nibbl.ru\n",
       "116382                cheerss.ru\n",
       "81886                  allgaz.ru\n",
       "66536                   game4.ru\n",
       "87773           make-a-choice.ru\n",
       "33734                i-fix-it.ru\n",
       "103805               gidplay.net\n",
       "82614           wotinspector.com\n",
       "60988              toyotainfo.ru\n",
       "124316          prokarbyrator.ru\n",
       "82363            cloudgame.press\n",
       "121211               xraycars.ru\n",
       "126636                 vwclub.su\n",
       "100906                  onexp.ru\n",
       "105583               ninja-it.ru\n",
       "122539              under-car.ru\n",
       "61051          remont-avtovaz.ru\n",
       "94157         anime-igri.ucoz.ru\n",
       "58761                megamozg.su\n",
       "118321                 kodbox.ru\n",
       "114714                vebtech.ru\n",
       "115176              xtgamers.com\n",
       "94807          avtoliteratura.ru\n",
       "89577               genapilot.ru\n",
       "73111                 izhstar.ru\n",
       "73659          noob-game.ucoz.ru\n",
       "102336            sborkimodov.ru\n",
       "62881                 bawshop.ru\n",
       "120080                 reaudi.ru\n",
       "33090                valmo.trade\n",
       "45379                  lkp812.ru\n",
       "41343            games-instel.ru\n",
       "91690                  nazcar.ru\n",
       "83869                avtomig.org\n",
       "92610                 china59.ru\n",
       "100451          studio-servis.ru\n",
       "35067               carsclick.ru\n",
       "102280               bezrulya.ru\n",
       "86953                  auto64.ru\n",
       "79336             guides-game.ru\n",
       "58873     remontavto-tolyatti.ru\n",
       "103500            vmiredorog.com\n",
       "99559     glance-service.clan.su\n",
       "89553             pc-remonter.ru\n",
       "112368             rightnotes.ru\n",
       "88749              gamedata.club\n",
       "Name: url_extended, dtype: object"
      ]
     },
     "execution_count": 25,
     "metadata": {},
     "output_type": "execute_result"
    }
   ],
   "source": [
    "prioritized_hosts['url_extended'].head(50)"
   ]
  },
  {
   "cell_type": "code",
   "execution_count": 37,
   "metadata": {},
   "outputs": [
    {
     "data": {
      "text/plain": [
       "['000', '10', '100', '1000', '102', '1080', '1080p', '11', '14', '16']"
      ]
     },
     "execution_count": 37,
     "metadata": {},
     "output_type": "execute_result"
    }
   ],
   "source": [
    "vocabulary = [\n",
    "    word\n",
    "    for word, _ in sorted(vectorizer.vocabulary_.items(), key=lambda x:x[1])\n",
    "]\n",
    "vocabulary[:10]"
   ]
  },
  {
   "cell_type": "code",
   "execution_count": 40,
   "metadata": {},
   "outputs": [
    {
     "data": {
      "text/plain": [
       "[(5.3697480969013975, 'автомобилей'),\n",
       " (2.757021875652325, 'авто'),\n",
       " (2.6100041724756498, 'новости'),\n",
       " (2.290896895147138, 'учителей'),\n",
       " (2.1982111246880316, 'рецепты'),\n",
       " (1.6553503266227039, 'онлайн'),\n",
       " (1.428150931721515, 'автомобили'),\n",
       " (1.3205051906203424, 'родителей'),\n",
       " (1.2554530726484636, 'сайт'),\n",
       " (1.2063064965725507, 'запчастей'),\n",
       " (1.1974210256932765, 'автомобильный'),\n",
       " (1.1703745356328992, 'аниме'),\n",
       " (1.1637124137798622, 'тесты'),\n",
       " (1.1300314624373882, 'обзоры'),\n",
       " (1.0050074021814819, 'ремонт'),\n",
       " (0.9648492623345956, 'журнал'),\n",
       " (0.9538079927741244, 'of'),\n",
       " (0.9070264425067347, 'android'),\n",
       " (0.8609211001997451, 'стихи'),\n",
       " (0.821877357754078, 'форум'),\n",
       " (0.8176739881616051, 'образовательный'),\n",
       " (0.813934182109482, 'электроники'),\n",
       " (0.7025737689266764, 'советы'),\n",
       " (0.6776643613651473, 'бухгалтера'),\n",
       " (0.6602001929909579, 'беларуси'),\n",
       " (0.6559284391444804, 'игровой'),\n",
       " (0.6476899010419231, 'kz'),\n",
       " (0.6439367506577857, 'домашние'),\n",
       " (0.625467161932391, 'it'),\n",
       " (0.598100613402483, 'игры'),\n",
       " (0.5795667823789986, 'настройка'),\n",
       " (0.577015156698764, 'ру'),\n",
       " (0.5747721458659698, 'электрика'),\n",
       " (0.5684548688798219, 'портал'),\n",
       " (0.5636143828561342, 'windows'),\n",
       " (0.563459072736853, 'автомобильные'),\n",
       " (0.5608466380036317, 'для'),\n",
       " (0.5285101524812551, 'игровые'),\n",
       " (0.5278558182392806, 'гороскопы'),\n",
       " (0.5199298775967992, 'красоте'),\n",
       " (0.5198643715360223, 'образования'),\n",
       " (0.5096191729436578, 'игр'),\n",
       " (0.5069549398339266, 'автомобиля'),\n",
       " (0.49345213316166436, 'огэ'),\n",
       " (0.4857125310448334, 'internet'),\n",
       " (0.48421248916556575, 'powerpoint'),\n",
       " (0.47150422642706036, 'детей'),\n",
       " (0.469284212698069, 'автомобилях'),\n",
       " (0.46034056665509326, 'and'),\n",
       " (0.4434650310400912, 'библиотека')]"
      ]
     },
     "execution_count": 40,
     "metadata": {},
     "output_type": "execute_result"
    }
   ],
   "source": [
    "sorted(zip(model.get_feature_importance(), vocabulary), reverse=True)[:50]"
   ]
  },
  {
   "cell_type": "code",
   "execution_count": null,
   "metadata": {},
   "outputs": [],
   "source": []
  }
 ],
 "metadata": {
  "kernelspec": {
   "display_name": "python3.8",
   "language": "python",
   "name": "python3.8"
  },
  "language_info": {
   "codemirror_mode": {
    "name": "ipython",
    "version": 3
   },
   "file_extension": ".py",
   "mimetype": "text/x-python",
   "name": "python",
   "nbconvert_exporter": "python",
   "pygments_lexer": "ipython3",
   "version": "3.8.6"
  }
 },
 "nbformat": 4,
 "nbformat_minor": 2
}
